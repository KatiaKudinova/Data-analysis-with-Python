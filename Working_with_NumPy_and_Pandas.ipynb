{
  "nbformat": 4,
  "nbformat_minor": 0,
  "metadata": {
    "colab": {
      "provenance": [],
      "authorship_tag": "ABX9TyNUQREd2rDT4TyfNJJYjI1M",
      "include_colab_link": true
    },
    "kernelspec": {
      "name": "python3",
      "display_name": "Python 3"
    },
    "language_info": {
      "name": "python"
    }
  },
  "cells": [
    {
      "cell_type": "markdown",
      "metadata": {
        "id": "view-in-github",
        "colab_type": "text"
      },
      "source": [
        "<a href=\"https://colab.research.google.com/github/KatiaKudinova/Data-analysis-with-Python/blob/main/Working_with_NumPy_and_Pandas.ipynb\" target=\"_parent\"><img src=\"https://colab.research.google.com/assets/colab-badge.svg\" alt=\"Open In Colab\"/></a>"
      ]
    },
    {
      "cell_type": "code",
      "execution_count": 1,
      "metadata": {
        "colab": {
          "base_uri": "https://localhost:8080/"
        },
        "id": "ntUwdd2ROgTI",
        "outputId": "4a0423d7-881b-4de7-ad80-d7ce5890e92c"
      },
      "outputs": [
        {
          "output_type": "stream",
          "name": "stdout",
          "text": [
            "Mounted at /content/drive\n",
            "/content/drive/MyDrive/DA Python\n",
            "   Unnamed: 0  age         workclass  education      marital-status  \\\n",
            "0           0   39         State-gov  Bachelors       Never-married   \n",
            "1           1   50  Self-emp-not-inc  Bachelors  Married-civ-spouse   \n",
            "2           2   38           Private    HS-grad            Divorced   \n",
            "3           3   53           Private       11th  Married-civ-spouse   \n",
            "4           4   28           Private  Bachelors  Married-civ-spouse   \n",
            "\n",
            "          occupation   relationship   race     sex  hours-per-week  \\\n",
            "0       Adm-clerical  Not-in-family  White    Male              40   \n",
            "1    Exec-managerial        Husband  White    Male              13   \n",
            "2  Handlers-cleaners  Not-in-family  White    Male              40   \n",
            "3  Handlers-cleaners        Husband  Black    Male              40   \n",
            "4     Prof-specialty           Wife  Black  Female              40   \n",
            "\n",
            "  native-country salary  salary K$  \n",
            "0  United-States  <=50K         39  \n",
            "1  United-States  <=50K         35  \n",
            "2  United-States  <=50K         27  \n",
            "3  United-States  <=50K         43  \n",
            "4           Cuba  <=50K         25  \n"
          ]
        }
      ],
      "source": [
        "from google.colab import drive\n",
        "drive.mount(\"/content/drive\")\n",
        "%cd /content/drive/MyDrive/DA Python\n",
        "import pandas as pd\n",
        "import numpy  as np\n",
        "df = pd.read_csv(\"adult.csv\")\n",
        "print(df.head())\n",
        "\n"
      ]
    },
    {
      "cell_type": "code",
      "source": [
        "df.info()"
      ],
      "metadata": {
        "colab": {
          "base_uri": "https://localhost:8080/"
        },
        "id": "KNn8Y6j_QiFs",
        "outputId": "12ae3ec8-77ca-42b8-fb46-6720525fcbae"
      },
      "execution_count": 2,
      "outputs": [
        {
          "output_type": "stream",
          "name": "stdout",
          "text": [
            "<class 'pandas.core.frame.DataFrame'>\n",
            "RangeIndex: 32561 entries, 0 to 32560\n",
            "Data columns (total 13 columns):\n",
            " #   Column          Non-Null Count  Dtype \n",
            "---  ------          --------------  ----- \n",
            " 0   Unnamed: 0      32561 non-null  int64 \n",
            " 1   age             32561 non-null  int64 \n",
            " 2   workclass       32561 non-null  object\n",
            " 3   education       32561 non-null  object\n",
            " 4   marital-status  32561 non-null  object\n",
            " 5   occupation      32561 non-null  object\n",
            " 6   relationship    32561 non-null  object\n",
            " 7   race            32561 non-null  object\n",
            " 8   sex             32561 non-null  object\n",
            " 9   hours-per-week  32561 non-null  int64 \n",
            " 10  native-country  32561 non-null  object\n",
            " 11  salary          32561 non-null  object\n",
            " 12  salary K$       32561 non-null  int64 \n",
            "dtypes: int64(4), object(9)\n",
            "memory usage: 3.2+ MB\n"
          ]
        }
      ]
    },
    {
      "cell_type": "code",
      "source": [
        "df.replace(\"?\", np.nan, inplace=True)\n",
        "print(df.isna().sum())\n",
        "df = df.dropna()\n",
        "salary_df = df[(df[\"salary K$\"] <= 50) & (df[\"salary\"] == '<=50K')]\n",
        "salary_df_50 = df[(df[\"salary K$\"] > 50) & (df[\"salary\"] == '>50K')]\n",
        "all_correct = len(df) == (len(salary_df) + len(salary_df_50))\n",
        "print(f\"All rows meet the condition: {all_correct}\")\n"
      ],
      "metadata": {
        "colab": {
          "base_uri": "https://localhost:8080/"
        },
        "id": "yZyrHyQvSU9x",
        "outputId": "b1909f34-f76c-4144-8747-ac6e98fc6245"
      },
      "execution_count": 3,
      "outputs": [
        {
          "output_type": "stream",
          "name": "stdout",
          "text": [
            "Unnamed: 0           0\n",
            "age                  0\n",
            "workclass         1836\n",
            "education            0\n",
            "marital-status       0\n",
            "occupation        1843\n",
            "relationship         0\n",
            "race                 0\n",
            "sex                  0\n",
            "hours-per-week       0\n",
            "native-country     583\n",
            "salary               0\n",
            "salary K$            0\n",
            "dtype: int64\n",
            "All rows meet the condition: True\n"
          ]
        }
      ]
    },
    {
      "cell_type": "markdown",
      "source": [
        "В стовпцях зарплата та зарплата у $K дані узгоджені."
      ],
      "metadata": {
        "id": "1_0LGqS2mpyP"
      }
    },
    {
      "cell_type": "code",
      "source": [
        "print(df['sex'].value_counts())\n",
        "print(f\"average age of male {df[df['sex'] == 'Male']['age'].mean():.2f}\")\n",
        "count_people_from_Poland = df[df['native-country'] == 'Poland']['native-country'].count()\n",
        "print(f\"% people from Poland {count_people_from_Poland / df['native-country'].count() * 100}\")"
      ],
      "metadata": {
        "colab": {
          "base_uri": "https://localhost:8080/"
        },
        "id": "9vobZblLm4fa",
        "outputId": "7dd7a1af-0632-4fab-838b-8d1858bc11d4"
      },
      "execution_count": 4,
      "outputs": [
        {
          "output_type": "stream",
          "name": "stdout",
          "text": [
            "sex\n",
            "Male      20380\n",
            "Female     9782\n",
            "Name: count, dtype: int64\n",
            "average age of male 39.18\n",
            "% people from Poland 0.18566408063125786\n"
          ]
        }
      ]
    },
    {
      "cell_type": "code",
      "source": [
        "higher_education = ['Bachelors', 'Prof-school', 'Assoc-acdm', 'Assoc-voc', 'Masters', 'Doctorate']\n",
        "is_non_education = len(df[~df['education'].isin(higher_education) & (df['salary'] == '>50K')]) > 0\n",
        "print(f\"Are there people without higher education but with a salary over 50K? {is_non_education}\")\n"
      ],
      "metadata": {
        "colab": {
          "base_uri": "https://localhost:8080/"
        },
        "id": "3-N9TyMOrXS7",
        "outputId": "063804d8-bd21-4747-f87f-7866e7d734a9"
      },
      "execution_count": 5,
      "outputs": [
        {
          "output_type": "stream",
          "name": "stdout",
          "text": [
            "Are there people without higher education but with a salary over 50K? True\n"
          ]
        }
      ]
    },
    {
      "cell_type": "code",
      "source": [
        "print(df.groupby(\"education\")['age'].describe())"
      ],
      "metadata": {
        "colab": {
          "base_uri": "https://localhost:8080/"
        },
        "id": "VEbOCfS0w5zF",
        "outputId": "210790e6-1c9b-4bd5-e11a-0c4cf54d9a0b"
      },
      "execution_count": 6,
      "outputs": [
        {
          "output_type": "stream",
          "name": "stdout",
          "text": [
            "               count       mean        std   min   25%   50%   75%   max\n",
            "education                                                               \n",
            "10th           820.0  37.897561  16.225795  17.0  23.0  36.0  52.0  90.0\n",
            "11th          1048.0  32.363550  15.089307  17.0  18.0  28.5  43.0  90.0\n",
            "12th           377.0  32.013263  14.373710  17.0  19.0  28.0  41.0  79.0\n",
            "1st-4th        151.0  44.622517  14.929051  19.0  33.0  44.0  56.0  81.0\n",
            "5th-6th        288.0  41.649306  14.754622  17.0  28.0  41.0  53.0  82.0\n",
            "7th-8th        557.0  47.631957  15.737479  17.0  34.0  49.0  60.0  90.0\n",
            "9th            455.0  40.303297  15.335754  17.0  28.0  38.0  53.0  90.0\n",
            "Assoc-acdm    1008.0  37.286706  10.509755  19.0  29.0  36.0  44.0  90.0\n",
            "Assoc-voc     1307.0  38.246366  11.181253  19.0  30.0  37.0  45.0  84.0\n",
            "Bachelors     5044.0  38.641554  11.577566  19.0  29.0  37.0  46.0  90.0\n",
            "Doctorate      375.0  47.130667  11.471727  24.0  39.0  47.0  54.0  80.0\n",
            "HS-grad       9840.0  38.640955  13.067730  17.0  28.0  37.0  48.0  90.0\n",
            "Masters       1627.0  43.740012  10.735356  18.0  36.0  43.0  50.0  90.0\n",
            "Preschool       45.0  41.288889  15.175672  19.0  30.0  40.0  53.0  75.0\n",
            "Prof-school    542.0  44.249077  11.428098  25.0  36.0  43.0  50.0  90.0\n",
            "Some-college  6678.0  36.135370  13.073528  17.0  25.0  35.0  45.0  90.0\n"
          ]
        }
      ]
    },
    {
      "cell_type": "code",
      "source": [
        "men = df[df[\"sex\"] == \"Male\"]\n",
        "married_men = men[men[\"marital-status\"].str.startswith(\"Married\")]\n",
        "unmarried_men = men[~men[\"marital-status\"].str.startswith(\"Married\")]\n",
        "married_high_income = (married_men[\"salary\"] == \">50K\").mean()\n",
        "unmarried_high_income = (unmarried_men[\"salary\"] == \">50K\").mean()\n",
        "married_high_income = (married_men[\"salary\"] == \">50K\").mean()\n",
        "unmarried_high_income = (unmarried_men[\"salary\"] == \">50K\").mean()\n",
        "print(f\"Одружені чоловіки, % з >50K: {married_high_income * 100:.2f}%\")\n",
        "print(f\"Неодружені чоловіки, % з >50K: {unmarried_high_income * 100:.2f}%\")"
      ],
      "metadata": {
        "colab": {
          "base_uri": "https://localhost:8080/"
        },
        "id": "9hNpVY4Nx3Tg",
        "outputId": "b73bfcc0-c9b3-4f7f-f457-feb9e068c858"
      },
      "execution_count": 7,
      "outputs": [
        {
          "output_type": "stream",
          "name": "stdout",
          "text": [
            "Одружені чоловіки, % з >50K: 44.80%\n",
            "Неодружені чоловіки, % з >50K: 8.85%\n"
          ]
        }
      ]
    },
    {
      "cell_type": "markdown",
      "source": [
        "Одружені чоловіки заробляють більше ніж неодружені"
      ],
      "metadata": {
        "id": "uMVeVlajKrpa"
      }
    },
    {
      "cell_type": "code",
      "source": [
        "max_hours = df[\"hours-per-week\"].max()\n",
        "people_max_hours = df[df[\"hours-per-week\"] == max_hours]\n",
        "count_people = len(people_max_hours)\n",
        "print(f\"Максимальна кількість годин на тиждень: {max_hours}\")\n",
        "print(f\"Кількість людей, які працюють стільки годин: {count_people}\")"
      ],
      "metadata": {
        "colab": {
          "base_uri": "https://localhost:8080/"
        },
        "id": "GXR8WbkjK5u9",
        "outputId": "b52e9acc-0686-4325-a8e4-b99646ae317d"
      },
      "execution_count": 8,
      "outputs": [
        {
          "output_type": "stream",
          "name": "stdout",
          "text": [
            "Максимальна кількість годин на тиждень: 99\n",
            "Кількість людей, які працюють стільки годин: 78\n"
          ]
        }
      ]
    }
  ]
}